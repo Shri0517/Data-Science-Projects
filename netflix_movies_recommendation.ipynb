{
 "cells": [
  {
   "cell_type": "markdown",
   "metadata": {},
   "source": [
    "# Importing libraries and reading dataset"
   ]
  },
  {
   "cell_type": "code",
   "execution_count": 3,
   "metadata": {},
   "outputs": [],
   "source": [
    "import numpy as np\n",
    "import pandas as pd\n",
    "import seaborn as sns\n",
    "import matplotlib.pyplot as plt"
   ]
  },
  {
   "cell_type": "markdown",
   "metadata": {},
   "source": []
  },
  {
   "cell_type": "code",
   "execution_count": 20,
   "metadata": {},
   "outputs": [],
   "source": [
    "df = pd.read_csv(\"netflix_titles.csv\")"
   ]
  },
  {
   "cell_type": "code",
   "execution_count": 22,
   "metadata": {},
   "outputs": [
    {
     "data": {
      "text/html": [
       "<div>\n",
       "<style scoped>\n",
       "    .dataframe tbody tr th:only-of-type {\n",
       "        vertical-align: middle;\n",
       "    }\n",
       "\n",
       "    .dataframe tbody tr th {\n",
       "        vertical-align: top;\n",
       "    }\n",
       "\n",
       "    .dataframe thead th {\n",
       "        text-align: right;\n",
       "    }\n",
       "</style>\n",
       "<table border=\"1\" class=\"dataframe\">\n",
       "  <thead>\n",
       "    <tr style=\"text-align: right;\">\n",
       "      <th></th>\n",
       "      <th>show_id</th>\n",
       "      <th>type</th>\n",
       "      <th>title</th>\n",
       "      <th>director</th>\n",
       "      <th>cast</th>\n",
       "      <th>country</th>\n",
       "      <th>date_added</th>\n",
       "      <th>release_year</th>\n",
       "      <th>rating</th>\n",
       "      <th>duration</th>\n",
       "      <th>listed_in</th>\n",
       "      <th>description</th>\n",
       "    </tr>\n",
       "  </thead>\n",
       "  <tbody>\n",
       "    <tr>\n",
       "      <th>0</th>\n",
       "      <td>s1</td>\n",
       "      <td>Movie</td>\n",
       "      <td>Dick Johnson Is Dead</td>\n",
       "      <td>Kirsten Johnson</td>\n",
       "      <td>NaN</td>\n",
       "      <td>United States</td>\n",
       "      <td>September 25, 2021</td>\n",
       "      <td>2020</td>\n",
       "      <td>PG-13</td>\n",
       "      <td>90 min</td>\n",
       "      <td>Documentaries</td>\n",
       "      <td>As her father nears the end of his life, filmm...</td>\n",
       "    </tr>\n",
       "    <tr>\n",
       "      <th>1</th>\n",
       "      <td>s2</td>\n",
       "      <td>TV Show</td>\n",
       "      <td>Blood &amp; Water</td>\n",
       "      <td>NaN</td>\n",
       "      <td>Ama Qamata, Khosi Ngema, Gail Mabalane, Thaban...</td>\n",
       "      <td>South Africa</td>\n",
       "      <td>September 24, 2021</td>\n",
       "      <td>2021</td>\n",
       "      <td>TV-MA</td>\n",
       "      <td>2 Seasons</td>\n",
       "      <td>International TV Shows, TV Dramas, TV Mysteries</td>\n",
       "      <td>After crossing paths at a party, a Cape Town t...</td>\n",
       "    </tr>\n",
       "    <tr>\n",
       "      <th>2</th>\n",
       "      <td>s3</td>\n",
       "      <td>TV Show</td>\n",
       "      <td>Ganglands</td>\n",
       "      <td>Julien Leclercq</td>\n",
       "      <td>Sami Bouajila, Tracy Gotoas, Samuel Jouy, Nabi...</td>\n",
       "      <td>NaN</td>\n",
       "      <td>September 24, 2021</td>\n",
       "      <td>2021</td>\n",
       "      <td>TV-MA</td>\n",
       "      <td>1 Season</td>\n",
       "      <td>Crime TV Shows, International TV Shows, TV Act...</td>\n",
       "      <td>To protect his family from a powerful drug lor...</td>\n",
       "    </tr>\n",
       "    <tr>\n",
       "      <th>3</th>\n",
       "      <td>s4</td>\n",
       "      <td>TV Show</td>\n",
       "      <td>Jailbirds New Orleans</td>\n",
       "      <td>NaN</td>\n",
       "      <td>NaN</td>\n",
       "      <td>NaN</td>\n",
       "      <td>September 24, 2021</td>\n",
       "      <td>2021</td>\n",
       "      <td>TV-MA</td>\n",
       "      <td>1 Season</td>\n",
       "      <td>Docuseries, Reality TV</td>\n",
       "      <td>Feuds, flirtations and toilet talk go down amo...</td>\n",
       "    </tr>\n",
       "    <tr>\n",
       "      <th>4</th>\n",
       "      <td>s5</td>\n",
       "      <td>TV Show</td>\n",
       "      <td>Kota Factory</td>\n",
       "      <td>NaN</td>\n",
       "      <td>Mayur More, Jitendra Kumar, Ranjan Raj, Alam K...</td>\n",
       "      <td>India</td>\n",
       "      <td>September 24, 2021</td>\n",
       "      <td>2021</td>\n",
       "      <td>TV-MA</td>\n",
       "      <td>2 Seasons</td>\n",
       "      <td>International TV Shows, Romantic TV Shows, TV ...</td>\n",
       "      <td>In a city of coaching centers known to train I...</td>\n",
       "    </tr>\n",
       "  </tbody>\n",
       "</table>\n",
       "</div>"
      ],
      "text/plain": [
       "  show_id     type                  title         director  \\\n",
       "0      s1    Movie   Dick Johnson Is Dead  Kirsten Johnson   \n",
       "1      s2  TV Show          Blood & Water              NaN   \n",
       "2      s3  TV Show              Ganglands  Julien Leclercq   \n",
       "3      s4  TV Show  Jailbirds New Orleans              NaN   \n",
       "4      s5  TV Show           Kota Factory              NaN   \n",
       "\n",
       "                                                cast        country  \\\n",
       "0                                                NaN  United States   \n",
       "1  Ama Qamata, Khosi Ngema, Gail Mabalane, Thaban...   South Africa   \n",
       "2  Sami Bouajila, Tracy Gotoas, Samuel Jouy, Nabi...            NaN   \n",
       "3                                                NaN            NaN   \n",
       "4  Mayur More, Jitendra Kumar, Ranjan Raj, Alam K...          India   \n",
       "\n",
       "           date_added  release_year rating   duration  \\\n",
       "0  September 25, 2021          2020  PG-13     90 min   \n",
       "1  September 24, 2021          2021  TV-MA  2 Seasons   \n",
       "2  September 24, 2021          2021  TV-MA   1 Season   \n",
       "3  September 24, 2021          2021  TV-MA   1 Season   \n",
       "4  September 24, 2021          2021  TV-MA  2 Seasons   \n",
       "\n",
       "                                           listed_in  \\\n",
       "0                                      Documentaries   \n",
       "1    International TV Shows, TV Dramas, TV Mysteries   \n",
       "2  Crime TV Shows, International TV Shows, TV Act...   \n",
       "3                             Docuseries, Reality TV   \n",
       "4  International TV Shows, Romantic TV Shows, TV ...   \n",
       "\n",
       "                                         description  \n",
       "0  As her father nears the end of his life, filmm...  \n",
       "1  After crossing paths at a party, a Cape Town t...  \n",
       "2  To protect his family from a powerful drug lor...  \n",
       "3  Feuds, flirtations and toilet talk go down amo...  \n",
       "4  In a city of coaching centers known to train I...  "
      ]
     },
     "execution_count": 22,
     "metadata": {},
     "output_type": "execute_result"
    }
   ],
   "source": [
    "df.head()"
   ]
  },
  {
   "cell_type": "markdown",
   "metadata": {},
   "source": [
    "# Exploratory data analysis (EDA)"
   ]
  },
  {
   "cell_type": "code",
   "execution_count": 27,
   "metadata": {},
   "outputs": [
    {
     "data": {
      "text/html": [
       "<div>\n",
       "<style scoped>\n",
       "    .dataframe tbody tr th:only-of-type {\n",
       "        vertical-align: middle;\n",
       "    }\n",
       "\n",
       "    .dataframe tbody tr th {\n",
       "        vertical-align: top;\n",
       "    }\n",
       "\n",
       "    .dataframe thead th {\n",
       "        text-align: right;\n",
       "    }\n",
       "</style>\n",
       "<table border=\"1\" class=\"dataframe\">\n",
       "  <thead>\n",
       "    <tr style=\"text-align: right;\">\n",
       "      <th></th>\n",
       "      <th>release_year</th>\n",
       "    </tr>\n",
       "  </thead>\n",
       "  <tbody>\n",
       "    <tr>\n",
       "      <th>count</th>\n",
       "      <td>8807.000000</td>\n",
       "    </tr>\n",
       "    <tr>\n",
       "      <th>mean</th>\n",
       "      <td>2014.180198</td>\n",
       "    </tr>\n",
       "    <tr>\n",
       "      <th>std</th>\n",
       "      <td>8.819312</td>\n",
       "    </tr>\n",
       "    <tr>\n",
       "      <th>min</th>\n",
       "      <td>1925.000000</td>\n",
       "    </tr>\n",
       "    <tr>\n",
       "      <th>25%</th>\n",
       "      <td>2013.000000</td>\n",
       "    </tr>\n",
       "    <tr>\n",
       "      <th>50%</th>\n",
       "      <td>2017.000000</td>\n",
       "    </tr>\n",
       "    <tr>\n",
       "      <th>75%</th>\n",
       "      <td>2019.000000</td>\n",
       "    </tr>\n",
       "    <tr>\n",
       "      <th>max</th>\n",
       "      <td>2021.000000</td>\n",
       "    </tr>\n",
       "  </tbody>\n",
       "</table>\n",
       "</div>"
      ],
      "text/plain": [
       "       release_year\n",
       "count   8807.000000\n",
       "mean    2014.180198\n",
       "std        8.819312\n",
       "min     1925.000000\n",
       "25%     2013.000000\n",
       "50%     2017.000000\n",
       "75%     2019.000000\n",
       "max     2021.000000"
      ]
     },
     "execution_count": 27,
     "metadata": {},
     "output_type": "execute_result"
    }
   ],
   "source": [
    "df.describe()"
   ]
  },
  {
   "cell_type": "code",
   "execution_count": 24,
   "metadata": {},
   "outputs": [
    {
     "name": "stdout",
     "output_type": "stream",
     "text": [
      "<class 'pandas.core.frame.DataFrame'>\n",
      "RangeIndex: 8807 entries, 0 to 8806\n",
      "Data columns (total 12 columns):\n",
      " #   Column        Non-Null Count  Dtype \n",
      "---  ------        --------------  ----- \n",
      " 0   show_id       8807 non-null   object\n",
      " 1   type          8807 non-null   object\n",
      " 2   title         8807 non-null   object\n",
      " 3   director      6173 non-null   object\n",
      " 4   cast          7982 non-null   object\n",
      " 5   country       7976 non-null   object\n",
      " 6   date_added    8797 non-null   object\n",
      " 7   release_year  8807 non-null   int64 \n",
      " 8   rating        8803 non-null   object\n",
      " 9   duration      8804 non-null   object\n",
      " 10  listed_in     8807 non-null   object\n",
      " 11  description   8807 non-null   object\n",
      "dtypes: int64(1), object(11)\n",
      "memory usage: 825.8+ KB\n"
     ]
    }
   ],
   "source": [
    "df.info()"
   ]
  },
  {
   "cell_type": "code",
   "execution_count": 25,
   "metadata": {},
   "outputs": [
    {
     "data": {
      "text/html": [
       "<div>\n",
       "<style scoped>\n",
       "    .dataframe tbody tr th:only-of-type {\n",
       "        vertical-align: middle;\n",
       "    }\n",
       "\n",
       "    .dataframe tbody tr th {\n",
       "        vertical-align: top;\n",
       "    }\n",
       "\n",
       "    .dataframe thead th {\n",
       "        text-align: right;\n",
       "    }\n",
       "</style>\n",
       "<table border=\"1\" class=\"dataframe\">\n",
       "  <thead>\n",
       "    <tr style=\"text-align: right;\">\n",
       "      <th></th>\n",
       "      <th>show_id</th>\n",
       "      <th>type</th>\n",
       "      <th>title</th>\n",
       "      <th>director</th>\n",
       "      <th>cast</th>\n",
       "      <th>country</th>\n",
       "      <th>date_added</th>\n",
       "      <th>release_year</th>\n",
       "      <th>rating</th>\n",
       "      <th>duration</th>\n",
       "      <th>listed_in</th>\n",
       "      <th>description</th>\n",
       "    </tr>\n",
       "  </thead>\n",
       "  <tbody>\n",
       "    <tr>\n",
       "      <th>7468</th>\n",
       "      <td>s7469</td>\n",
       "      <td>TV Show</td>\n",
       "      <td>Miss Rose</td>\n",
       "      <td>NaN</td>\n",
       "      <td>Roy Chiu, Megan Lai, Paul Hsu, Tia Lee, Chunya...</td>\n",
       "      <td>Taiwan</td>\n",
       "      <td>August 1, 2016</td>\n",
       "      <td>2015</td>\n",
       "      <td>TV-MA</td>\n",
       "      <td>1 Season</td>\n",
       "      <td>International TV Shows, Romantic TV Shows, TV ...</td>\n",
       "      <td>Resolving to get married soon, hardworking Si-...</td>\n",
       "    </tr>\n",
       "  </tbody>\n",
       "</table>\n",
       "</div>"
      ],
      "text/plain": [
       "     show_id     type      title director  \\\n",
       "7468   s7469  TV Show  Miss Rose      NaN   \n",
       "\n",
       "                                                   cast country  \\\n",
       "7468  Roy Chiu, Megan Lai, Paul Hsu, Tia Lee, Chunya...  Taiwan   \n",
       "\n",
       "          date_added  release_year rating  duration  \\\n",
       "7468  August 1, 2016          2015  TV-MA  1 Season   \n",
       "\n",
       "                                              listed_in  \\\n",
       "7468  International TV Shows, Romantic TV Shows, TV ...   \n",
       "\n",
       "                                            description  \n",
       "7468  Resolving to get married soon, hardworking Si-...  "
      ]
     },
     "execution_count": 25,
     "metadata": {},
     "output_type": "execute_result"
    }
   ],
   "source": [
    "df.sample()"
   ]
  },
  {
   "cell_type": "code",
   "execution_count": 26,
   "metadata": {},
   "outputs": [
    {
     "data": {
      "text/plain": [
       "(8807, 12)"
      ]
     },
     "execution_count": 26,
     "metadata": {},
     "output_type": "execute_result"
    }
   ],
   "source": [
    "df.shape"
   ]
  },
  {
   "cell_type": "code",
   "execution_count": 30,
   "metadata": {},
   "outputs": [
    {
     "data": {
      "text/plain": [
       "show_id         object\n",
       "type            object\n",
       "title           object\n",
       "director        object\n",
       "cast            object\n",
       "country         object\n",
       "date_added      object\n",
       "release_year     int64\n",
       "rating          object\n",
       "duration        object\n",
       "listed_in       object\n",
       "description     object\n",
       "dtype: object"
      ]
     },
     "execution_count": 30,
     "metadata": {},
     "output_type": "execute_result"
    }
   ],
   "source": [
    "#get datatypes\n",
    "df.dtypes"
   ]
  },
  {
   "cell_type": "code",
   "execution_count": 31,
   "metadata": {},
   "outputs": [
    {
     "data": {
      "text/plain": [
       "show_id         8807\n",
       "type               2\n",
       "title           8807\n",
       "director        4528\n",
       "cast            7692\n",
       "country          748\n",
       "date_added      1767\n",
       "release_year      74\n",
       "rating            17\n",
       "duration         220\n",
       "listed_in        514\n",
       "description     8775\n",
       "dtype: int64"
      ]
     },
     "execution_count": 31,
     "metadata": {},
     "output_type": "execute_result"
    }
   ],
   "source": [
    "df.nunique()"
   ]
  },
  {
   "cell_type": "code",
   "execution_count": 32,
   "metadata": {},
   "outputs": [
    {
     "data": {
      "text/plain": [
       "show_id            0\n",
       "type               0\n",
       "title              0\n",
       "director        2634\n",
       "cast             825\n",
       "country          831\n",
       "date_added        10\n",
       "release_year       0\n",
       "rating             4\n",
       "duration           3\n",
       "listed_in          0\n",
       "description        0\n",
       "dtype: int64"
      ]
     },
     "execution_count": 32,
     "metadata": {},
     "output_type": "execute_result"
    }
   ],
   "source": [
    "df.isnull().sum()"
   ]
  },
  {
   "cell_type": "code",
   "execution_count": 33,
   "metadata": {},
   "outputs": [
    {
     "data": {
      "text/plain": [
       "0"
      ]
     },
     "execution_count": 33,
     "metadata": {},
     "output_type": "execute_result"
    }
   ],
   "source": [
    "df.duplicated().sum()"
   ]
  },
  {
   "cell_type": "code",
   "execution_count": 34,
   "metadata": {},
   "outputs": [
    {
     "data": {
      "text/plain": [
       "show_id         8807\n",
       "type            8807\n",
       "title           8807\n",
       "director        6173\n",
       "cast            7982\n",
       "country         7976\n",
       "date_added      8797\n",
       "release_year    8807\n",
       "rating          8803\n",
       "duration        8804\n",
       "listed_in       8807\n",
       "description     8807\n",
       "dtype: int64"
      ]
     },
     "execution_count": 34,
     "metadata": {},
     "output_type": "execute_result"
    }
   ],
   "source": [
    "df.count()"
   ]
  },
  {
   "cell_type": "markdown",
   "metadata": {},
   "source": [
    "# Handling missing data"
   ]
  },
  {
   "cell_type": "code",
   "execution_count": 37,
   "metadata": {},
   "outputs": [],
   "source": [
    "#Handling missing data\n",
    "df.dropna(inplace = True)\n"
   ]
  },
  {
   "cell_type": "code",
   "execution_count": 62,
   "metadata": {},
   "outputs": [
    {
     "name": "stdout",
     "output_type": "stream",
     "text": [
      "No duplicate rows found.\n"
     ]
    }
   ],
   "source": [
    "duplicate_rows = df[df.duplicated()]\n",
    "\n",
    "# Check if there are any duplicate rows\n",
    "if duplicate_rows.shape[0] > 0:\n",
    "    print(\"Duplicate rows found:\")\n",
    "    print(duplicate_rows)\n",
    "else:\n",
    "    print(\"No duplicate rows found.\")"
   ]
  },
  {
   "cell_type": "code",
   "execution_count": 63,
   "metadata": {},
   "outputs": [],
   "source": [
    "# create a copy table\n",
    "df_copy = df.copy()"
   ]
  },
  {
   "cell_type": "code",
   "execution_count": 65,
   "metadata": {},
   "outputs": [
    {
     "data": {
      "text/html": [
       "<div>\n",
       "<style scoped>\n",
       "    .dataframe tbody tr th:only-of-type {\n",
       "        vertical-align: middle;\n",
       "    }\n",
       "\n",
       "    .dataframe tbody tr th {\n",
       "        vertical-align: top;\n",
       "    }\n",
       "\n",
       "    .dataframe thead th {\n",
       "        text-align: right;\n",
       "    }\n",
       "</style>\n",
       "<table border=\"1\" class=\"dataframe\">\n",
       "  <thead>\n",
       "    <tr style=\"text-align: right;\">\n",
       "      <th></th>\n",
       "      <th>show_id</th>\n",
       "      <th>type</th>\n",
       "      <th>title</th>\n",
       "      <th>director</th>\n",
       "      <th>cast</th>\n",
       "      <th>country</th>\n",
       "      <th>date_added</th>\n",
       "      <th>release_year</th>\n",
       "      <th>rating</th>\n",
       "      <th>duration</th>\n",
       "      <th>listed_in</th>\n",
       "      <th>description</th>\n",
       "      <th>title_lower</th>\n",
       "    </tr>\n",
       "  </thead>\n",
       "  <tbody>\n",
       "    <tr>\n",
       "      <th>2</th>\n",
       "      <td>s10</td>\n",
       "      <td>Movie</td>\n",
       "      <td>The Starling</td>\n",
       "      <td>Theodore Melfi</td>\n",
       "      <td>Melissa McCarthy, Chris O'Dowd, Kevin Kline, T...</td>\n",
       "      <td>United States</td>\n",
       "      <td>September 24, 2021</td>\n",
       "      <td>2021</td>\n",
       "      <td>PG-13</td>\n",
       "      <td>104 min</td>\n",
       "      <td>Comedies, Dramas</td>\n",
       "      <td>A woman adjusting to life after a loss contend...</td>\n",
       "      <td>the starling</td>\n",
       "    </tr>\n",
       "    <tr>\n",
       "      <th>462</th>\n",
       "      <td>s1000</td>\n",
       "      <td>Movie</td>\n",
       "      <td>Stowaway</td>\n",
       "      <td>Joe Penna</td>\n",
       "      <td>Anna Kendrick, Toni Collette, Daniel Dae Kim, ...</td>\n",
       "      <td>Germany, United States</td>\n",
       "      <td>April 22, 2021</td>\n",
       "      <td>2021</td>\n",
       "      <td>TV-MA</td>\n",
       "      <td>116 min</td>\n",
       "      <td>Dramas, International Movies, Thrillers</td>\n",
       "      <td>A three-person crew on a mission to Mars faces...</td>\n",
       "      <td>stowaway</td>\n",
       "    </tr>\n",
       "    <tr>\n",
       "      <th>463</th>\n",
       "      <td>s1002</td>\n",
       "      <td>Movie</td>\n",
       "      <td>Oloibiri</td>\n",
       "      <td>Curtis Graham</td>\n",
       "      <td>Olu Jacobs, Richard Mofe-Damijo, William R. Mo...</td>\n",
       "      <td>Canada, Nigeria, United States</td>\n",
       "      <td>April 21, 2021</td>\n",
       "      <td>2015</td>\n",
       "      <td>TV-14</td>\n",
       "      <td>86 min</td>\n",
       "      <td>Dramas, International Movies, Thrillers</td>\n",
       "      <td>After drilling depletes a small village, a cor...</td>\n",
       "      <td>oloibiri</td>\n",
       "    </tr>\n",
       "    <tr>\n",
       "      <th>464</th>\n",
       "      <td>s1003</td>\n",
       "      <td>Movie</td>\n",
       "      <td>Tell Me When</td>\n",
       "      <td>Gerardo Gatica</td>\n",
       "      <td>Jesús Zavala, Ximena Romo, Verónica Castro, Jo...</td>\n",
       "      <td>Mexico</td>\n",
       "      <td>April 21, 2021</td>\n",
       "      <td>2021</td>\n",
       "      <td>TV-MA</td>\n",
       "      <td>97 min</td>\n",
       "      <td>Comedies, International Movies</td>\n",
       "      <td>Workaholic Will puts his humdrum life in LA on...</td>\n",
       "      <td>tell me when</td>\n",
       "    </tr>\n",
       "    <tr>\n",
       "      <th>465</th>\n",
       "      <td>s1014</td>\n",
       "      <td>Movie</td>\n",
       "      <td>Miss Sloane</td>\n",
       "      <td>John Madden</td>\n",
       "      <td>Jessica Chastain, Mark Strong, Gugu Mbatha-Raw...</td>\n",
       "      <td>France, United States, United Kingdom, Canada</td>\n",
       "      <td>April 19, 2021</td>\n",
       "      <td>2016</td>\n",
       "      <td>R</td>\n",
       "      <td>132 min</td>\n",
       "      <td>Thrillers</td>\n",
       "      <td>A tenacious Capitol Hill lobbyist with a well-...</td>\n",
       "      <td>miss sloane</td>\n",
       "    </tr>\n",
       "    <tr>\n",
       "      <th>...</th>\n",
       "      <td>...</td>\n",
       "      <td>...</td>\n",
       "      <td>...</td>\n",
       "      <td>...</td>\n",
       "      <td>...</td>\n",
       "      <td>...</td>\n",
       "      <td>...</td>\n",
       "      <td>...</td>\n",
       "      <td>...</td>\n",
       "      <td>...</td>\n",
       "      <td>...</td>\n",
       "      <td>...</td>\n",
       "      <td>...</td>\n",
       "    </tr>\n",
       "    <tr>\n",
       "      <th>457</th>\n",
       "      <td>s991</td>\n",
       "      <td>Movie</td>\n",
       "      <td>Niyazi Gül Dörtnala</td>\n",
       "      <td>Hakan Algül</td>\n",
       "      <td>Ata Demirer, Demet Akbağ, Şebnem Bozoklu, Leve...</td>\n",
       "      <td>Turkey</td>\n",
       "      <td>April 23, 2021</td>\n",
       "      <td>2015</td>\n",
       "      <td>TV-MA</td>\n",
       "      <td>102 min</td>\n",
       "      <td>Comedies, International Movies</td>\n",
       "      <td>Seeking the formula behind a magical elixir be...</td>\n",
       "      <td>niyazi gül dörtnala</td>\n",
       "    </tr>\n",
       "    <tr>\n",
       "      <th>458</th>\n",
       "      <td>s992</td>\n",
       "      <td>Movie</td>\n",
       "      <td>One Like It</td>\n",
       "      <td>Marwan Nabil</td>\n",
       "      <td>Riham Abdel Ghafour, Mohammed Aly Rizk, Hazem ...</td>\n",
       "      <td>Egypt</td>\n",
       "      <td>April 23, 2021</td>\n",
       "      <td>2020</td>\n",
       "      <td>TV-G</td>\n",
       "      <td>15 min</td>\n",
       "      <td>Dramas, Independent Movies, International Movies</td>\n",
       "      <td>This short film follows a day in the life of a...</td>\n",
       "      <td>one like it</td>\n",
       "    </tr>\n",
       "    <tr>\n",
       "      <th>459</th>\n",
       "      <td>s995</td>\n",
       "      <td>Movie</td>\n",
       "      <td>This Lady Called Life</td>\n",
       "      <td>Kayode Kasum</td>\n",
       "      <td>Bisola Aiyeola, Efa Iwara, Molawa Onajobi, Tin...</td>\n",
       "      <td>Nigeria</td>\n",
       "      <td>April 23, 2021</td>\n",
       "      <td>2020</td>\n",
       "      <td>TV-14</td>\n",
       "      <td>120 min</td>\n",
       "      <td>Dramas, International Movies, Romantic Movies</td>\n",
       "      <td>Abandoned by her family, young single mother A...</td>\n",
       "      <td>this lady called life</td>\n",
       "    </tr>\n",
       "    <tr>\n",
       "      <th>460</th>\n",
       "      <td>s996</td>\n",
       "      <td>Movie</td>\n",
       "      <td>Vizontele</td>\n",
       "      <td>Yılmaz Erdoğan, Ömer Faruk Sorak</td>\n",
       "      <td>Yılmaz Erdoğan, Demet Akbağ, Altan Erkekli, Ce...</td>\n",
       "      <td>Turkey</td>\n",
       "      <td>April 23, 2021</td>\n",
       "      <td>2001</td>\n",
       "      <td>TV-MA</td>\n",
       "      <td>106 min</td>\n",
       "      <td>Comedies, Dramas, International Movies</td>\n",
       "      <td>In 1974, a rural town in Anatolia gets its fir...</td>\n",
       "      <td>vizontele</td>\n",
       "    </tr>\n",
       "    <tr>\n",
       "      <th>461</th>\n",
       "      <td>s997</td>\n",
       "      <td>Movie</td>\n",
       "      <td>HOMUNCULUS</td>\n",
       "      <td>Takashi Shimizu</td>\n",
       "      <td>Go Ayano, Ryo Narita, Yukino Kishii, Anna Ishi...</td>\n",
       "      <td>Japan</td>\n",
       "      <td>April 22, 2021</td>\n",
       "      <td>2021</td>\n",
       "      <td>TV-MA</td>\n",
       "      <td>116 min</td>\n",
       "      <td>Horror Movies, International Movies, Thrillers</td>\n",
       "      <td>Truth and illusion blurs when a homeless amnes...</td>\n",
       "      <td>homunculus</td>\n",
       "    </tr>\n",
       "  </tbody>\n",
       "</table>\n",
       "<p>5332 rows × 13 columns</p>\n",
       "</div>"
      ],
      "text/plain": [
       "    show_id   type                  title                          director  \\\n",
       "2       s10  Movie           The Starling                    Theodore Melfi   \n",
       "462   s1000  Movie               Stowaway                         Joe Penna   \n",
       "463   s1002  Movie               Oloibiri                     Curtis Graham   \n",
       "464   s1003  Movie           Tell Me When                    Gerardo Gatica   \n",
       "465   s1014  Movie            Miss Sloane                       John Madden   \n",
       "..      ...    ...                    ...                               ...   \n",
       "457    s991  Movie    Niyazi Gül Dörtnala                       Hakan Algül   \n",
       "458    s992  Movie            One Like It                      Marwan Nabil   \n",
       "459    s995  Movie  This Lady Called Life                      Kayode Kasum   \n",
       "460    s996  Movie              Vizontele  Yılmaz Erdoğan, Ömer Faruk Sorak   \n",
       "461    s997  Movie             HOMUNCULUS                   Takashi Shimizu   \n",
       "\n",
       "                                                  cast  \\\n",
       "2    Melissa McCarthy, Chris O'Dowd, Kevin Kline, T...   \n",
       "462  Anna Kendrick, Toni Collette, Daniel Dae Kim, ...   \n",
       "463  Olu Jacobs, Richard Mofe-Damijo, William R. Mo...   \n",
       "464  Jesús Zavala, Ximena Romo, Verónica Castro, Jo...   \n",
       "465  Jessica Chastain, Mark Strong, Gugu Mbatha-Raw...   \n",
       "..                                                 ...   \n",
       "457  Ata Demirer, Demet Akbağ, Şebnem Bozoklu, Leve...   \n",
       "458  Riham Abdel Ghafour, Mohammed Aly Rizk, Hazem ...   \n",
       "459  Bisola Aiyeola, Efa Iwara, Molawa Onajobi, Tin...   \n",
       "460  Yılmaz Erdoğan, Demet Akbağ, Altan Erkekli, Ce...   \n",
       "461  Go Ayano, Ryo Narita, Yukino Kishii, Anna Ishi...   \n",
       "\n",
       "                                           country          date_added  \\\n",
       "2                                    United States  September 24, 2021   \n",
       "462                         Germany, United States      April 22, 2021   \n",
       "463                 Canada, Nigeria, United States      April 21, 2021   \n",
       "464                                         Mexico      April 21, 2021   \n",
       "465  France, United States, United Kingdom, Canada      April 19, 2021   \n",
       "..                                             ...                 ...   \n",
       "457                                         Turkey      April 23, 2021   \n",
       "458                                          Egypt      April 23, 2021   \n",
       "459                                        Nigeria      April 23, 2021   \n",
       "460                                         Turkey      April 23, 2021   \n",
       "461                                          Japan      April 22, 2021   \n",
       "\n",
       "     release_year rating duration  \\\n",
       "2            2021  PG-13  104 min   \n",
       "462          2021  TV-MA  116 min   \n",
       "463          2015  TV-14   86 min   \n",
       "464          2021  TV-MA   97 min   \n",
       "465          2016      R  132 min   \n",
       "..            ...    ...      ...   \n",
       "457          2015  TV-MA  102 min   \n",
       "458          2020   TV-G   15 min   \n",
       "459          2020  TV-14  120 min   \n",
       "460          2001  TV-MA  106 min   \n",
       "461          2021  TV-MA  116 min   \n",
       "\n",
       "                                            listed_in  \\\n",
       "2                                    Comedies, Dramas   \n",
       "462           Dramas, International Movies, Thrillers   \n",
       "463           Dramas, International Movies, Thrillers   \n",
       "464                    Comedies, International Movies   \n",
       "465                                         Thrillers   \n",
       "..                                                ...   \n",
       "457                    Comedies, International Movies   \n",
       "458  Dramas, Independent Movies, International Movies   \n",
       "459     Dramas, International Movies, Romantic Movies   \n",
       "460            Comedies, Dramas, International Movies   \n",
       "461    Horror Movies, International Movies, Thrillers   \n",
       "\n",
       "                                           description            title_lower  \n",
       "2    A woman adjusting to life after a loss contend...           the starling  \n",
       "462  A three-person crew on a mission to Mars faces...               stowaway  \n",
       "463  After drilling depletes a small village, a cor...               oloibiri  \n",
       "464  Workaholic Will puts his humdrum life in LA on...           tell me when  \n",
       "465  A tenacious Capitol Hill lobbyist with a well-...            miss sloane  \n",
       "..                                                 ...                    ...  \n",
       "457  Seeking the formula behind a magical elixir be...    niyazi gül dörtnala  \n",
       "458  This short film follows a day in the life of a...            one like it  \n",
       "459  Abandoned by her family, young single mother A...  this lady called life  \n",
       "460  In 1974, a rural town in Anatolia gets its fir...              vizontele  \n",
       "461  Truth and illusion blurs when a homeless amnes...             homunculus  \n",
       "\n",
       "[5332 rows x 13 columns]"
      ]
     },
     "execution_count": 65,
     "metadata": {},
     "output_type": "execute_result"
    }
   ],
   "source": [
    "# copy new 'title' column with lower case string\n",
    "df['title_lower'] = df['title'].str.lower()\n",
    "\n",
    "# sorting title, release year by ascending\n",
    "df = df.sort_values(by=['show_id', 'title','release_year'], ascending=[True, True, True])\n",
    "\n",
    "df"
   ]
  },
  {
   "cell_type": "code",
   "execution_count": 66,
   "metadata": {},
   "outputs": [],
   "source": [
    "dup_title = df.groupby(['type', 'title_lower','release_year']).size().reset_index(name='count')\n",
    "dup_title = dup_title[dup_title['count'] > 1]"
   ]
  },
  {
   "cell_type": "code",
   "execution_count": 67,
   "metadata": {},
   "outputs": [],
   "source": [
    "# deleted duplicate title name by lower case title\n",
    "df.drop_duplicates(subset=['type', 'title_lower', 'release_year'], keep='first', inplace=True)"
   ]
  },
  {
   "cell_type": "code",
   "execution_count": 68,
   "metadata": {},
   "outputs": [
    {
     "name": "stdout",
     "output_type": "stream",
     "text": [
      "show_id         0\n",
      "type            0\n",
      "title           0\n",
      "director        0\n",
      "cast            0\n",
      "country         0\n",
      "date_added      0\n",
      "release_year    0\n",
      "rating          0\n",
      "duration        0\n",
      "listed_in       0\n",
      "description     0\n",
      "title_lower     0\n",
      "dtype: int64\n"
     ]
    }
   ],
   "source": [
    "df.fillna('unknown', inplace=True)\n",
    "print(df.isna().sum())"
   ]
  },
  {
   "cell_type": "code",
   "execution_count": 75,
   "metadata": {},
   "outputs": [
    {
     "name": "stderr",
     "output_type": "stream",
     "text": [
      "C:\\Users\\dell\\AppData\\Local\\Temp\\ipykernel_42876\\1409370864.py:21: FutureWarning: \n",
      "\n",
      "Passing `palette` without assigning `hue` is deprecated and will be removed in v0.14.0. Assign the `y` variable to `hue` and set `legend=False` for the same effect.\n",
      "\n",
      "  sns.countplot(y=filtered_director['director'], order=filtered_director['director'].value_counts().index[:10], palette='pastel')\n"
     ]
    },
    {
     "data": {
      "image/png": "[encoded data removed]",
      "text/plain": [
       "<Figure size 800x400 with 1 Axes>"
      ]
     },
     "metadata": {},
     "output_type": "display_data"
    }
   ],
   "source": [
    "#assign a new director listing \n",
    "df_director = df[['show_id','director','country']].copy()\n",
    "director_exploded = df_director.copy()\n",
    "\n",
    "\n",
    "#replace and split comma to explode value in the 'director' column\n",
    "director_exploded['director'] = director_exploded['director'].str.replace(', ', ',', regex=False)\n",
    "director_exploded['director'] = director_exploded['director'].str.split(',')\n",
    "\n",
    "#Explode the 'director' list name into Multiple Rows\n",
    "director_exploded = director_exploded.explode('director')\n",
    "director_exploded.reset_index(drop=True, inplace=True)\n",
    "\n",
    "\n",
    "#filter dicector except 'unknown'\n",
    "filtered_director = director_exploded[~director_exploded['director'].str.lower().eq('unknown')]\n",
    "\n",
    "\n",
    "\n",
    "plt.figure(figsize=(8,4))\n",
    "sns.countplot(y=filtered_director['director'], order=filtered_director['director'].value_counts().index[:10], palette='pastel')\n",
    "plt.title(\"Top 10 Directors have Most Movies on Netflix\", fontsize= 18)\n",
    "plt.xlabel(\"Number of Movies\")\n",
    "plt.show()"
   ]
  },
  {
   "cell_type": "code",
   "execution_count": 76,
   "metadata": {},
   "outputs": [
    {
     "name": "stderr",
     "output_type": "stream",
     "text": [
      "C:\\Users\\dell\\AppData\\Local\\Temp\\ipykernel_42876\\3864011803.py:19: FutureWarning: \n",
      "\n",
      "Passing `palette` without assigning `hue` is deprecated and will be removed in v0.14.0. Assign the `y` variable to `hue` and set `legend=False` for the same effect.\n",
      "\n",
      "  sns.countplot(y=filtered_country['country'], order=filtered_country['country'].value_counts().index[:10], palette='magma')\n"
     ]
    },
    {
     "data": {
      "image/png": "[encoded data removed]",
      "text/plain": [
       "<Figure size 800x400 with 1 Axes>"
      ]
     },
     "metadata": {},
     "output_type": "display_data"
    }
   ],
   "source": [
    "#assign a new country listing\n",
    "df_country = df[['show_id','country','rating']].copy()\n",
    "country_exploded = df_country.copy()\n",
    "\n",
    "#replace and split comma to explode value in the 'country' column\n",
    "country_exploded['country'] = country_exploded['country'].str.replace(', ', ',', regex=False)\n",
    "country_exploded['country'] = country_exploded['country'].str.split(',')\n",
    "\n",
    "#Explode the 'country' list name into Multiple Rows\n",
    "country_exploded = country_exploded.explode('country')\n",
    "country_exploded.reset_index(drop=True, inplace=True)\n",
    "\n",
    "\n",
    "#filter country except 'unknown'\n",
    "filtered_country = country_exploded[~country_exploded['country'].str.lower().eq('unknown')]\n",
    "\n",
    "\n",
    "plt.figure(figsize=(8,4))\n",
    "sns.countplot(y=filtered_country['country'], order=filtered_country['country'].value_counts().index[:10], palette='magma')\n",
    "plt.title(\"Top 10 Countries Most Produced on Netflix\", fontsize= 18)\n",
    "plt.xlabel(\"Number of Countries\")\n",
    "plt.show()"
   ]
  },
  {
   "cell_type": "code",
   "execution_count": 78,
   "metadata": {},
   "outputs": [
    {
     "name": "stdout",
     "output_type": "stream",
     "text": [
      "Collecting squarifyNote: you may need to restart the kernel to use updated packages.\n"
     ]
    },
    {
     "name": "stderr",
     "output_type": "stream",
     "text": [
      "\n",
      "[notice] A new release of pip is available: 24.1 -> 25.0.1\n",
      "[notice] To update, run: python.exe -m pip install --upgrade pip\n"
     ]
    },
    {
     "name": "stdout",
     "output_type": "stream",
     "text": [
      "\n",
      "  Downloading squarify-0.4.4-py3-none-any.whl.metadata (600 bytes)\n",
      "Downloading squarify-0.4.4-py3-none-any.whl (4.1 kB)\n",
      "Installing collected packages: squarify\n",
      "Successfully installed squarify-0.4.4\n"
     ]
    }
   ],
   "source": [
    "!pip install squarify"
   ]
  },
  {
   "cell_type": "code",
   "execution_count": 84,
   "metadata": {},
   "outputs": [
    {
     "data": {
      "image/png": "[encoded data removed]",
      "text/plain": [
       "<Figure size 1000x600 with 1 Axes>"
      ]
     },
     "metadata": {},
     "output_type": "display_data"
    }
   ],
   "source": [
    "import squarify\n",
    "def plt_genre(df):\n",
    "    #assign a new country listing\n",
    "    df_genre = df[['show_id','type','title','listed_in']].copy()\n",
    "    \n",
    "    #split comma to explode value in the 'listed_in' column\n",
    "    genre_count = df_genre['listed_in'].str.split(', ').explode().value_counts().head(10)\n",
    "\n",
    "    \n",
    "    plt.figure(figsize=(10,6))\n",
    "    squarify.plot(\n",
    "        sizes= genre_count.values,\n",
    "        label= genre_count.index,\n",
    "        alpha= 0.8\n",
    "    )\n",
    "    plt.title('Top 5 Genres on Netflix', fontsize=18)\n",
    "    plt.axis('off')\n",
    "    plt.show()\n",
    "\n",
    "plt_genre(df)\n",
    "\n",
    "\n"
   ]
  },
  {
   "cell_type": "markdown",
   "metadata": {},
   "source": [
    "# Yearly growth of content in netflix"
   ]
  },
  {
   "cell_type": "code",
   "execution_count": 85,
   "metadata": {},
   "outputs": [
    {
     "data": {
      "image/png": "[encoded data removed]",
      "text/plain": [
       "<Figure size 1200x600 with 1 Axes>"
      ]
     },
     "metadata": {},
     "output_type": "display_data"
    }
   ],
   "source": [
    "def plt_yearly_trend(df):\n",
    "    yearly_type_count = df.groupby(['release_year','type']).size().unstack()\n",
    "\n",
    "    ax= yearly_type_count.plot(\n",
    "        kind= 'line',\n",
    "        figsize=(12,6),\n",
    "        linewidth= 2,\n",
    "        marker= 'o'\n",
    "    )\n",
    "\n",
    "    ax.set_title('Yearly Growth of Content on Netflix', fontsize= 18)\n",
    "    ax.set_xlabel('Release Year')\n",
    "    ax.set_ylabel('Number of Contents')\n",
    "    ax.legend(['Movies','Tv Shows'])\n",
    "    plt.tight_layout()\n",
    "    plt.show()\n",
    "\n",
    "plt_yearly_trend(df)"
   ]
  },
  {
   "cell_type": "code",
   "execution_count": null,
   "metadata": {},
   "outputs": [],
   "source": []
  },
  {
   "cell_type": "code",
   "execution_count": null,
   "metadata": {},
   "outputs": [],
   "source": []
  },
  {
   "cell_type": "code",
   "execution_count": null,
   "metadata": {},
   "outputs": [],
   "source": []
  },
  {
   "cell_type": "code",
   "execution_count": null,
   "metadata": {},
   "outputs": [],
   "source": []
  }
 ],
 "metadata": {
  "kernelspec": {
   "display_name": "Python 3",
   "language": "python",
   "name": "python3"
  },
  "language_info": {
   "codemirror_mode": {
    "name": "ipython",
    "version": 3
   },
   "file_extension": ".py",
   "mimetype": "text/x-python",
   "name": "python",
   "nbconvert_exporter": "python",
   "pygments_lexer": "ipython3",
   "version": "3.10.4"
  }
 },
 "nbformat": 4,
 "nbformat_minor": 2
}
